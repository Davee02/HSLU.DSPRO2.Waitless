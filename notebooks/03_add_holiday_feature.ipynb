{
 "cells": [
  {
   "cell_type": "code",
   "execution_count": 1,
   "metadata": {},
   "outputs": [],
   "source": [
    "import os\n",
    "import datetime\n",
    "\n",
    "import pandas as pd\n",
    "import holidays"
   ]
  },
  {
   "cell_type": "markdown",
   "metadata": {},
   "source": [
    "## Load the Data"
   ]
  },
  {
   "cell_type": "code",
   "execution_count": 2,
   "metadata": {},
   "outputs": [],
   "source": [
    "data_input_dir = \"../data/processed\"\n",
    "ep_input_file = os.path.join(data_input_dir, \"ep\", \"merged_data.parquet\")\n",
    "\n",
    "ep_output_file = os.path.join(data_input_dir, \"ep\", \"merged_with_holidays.parquet\")"
   ]
  },
  {
   "cell_type": "markdown",
   "metadata": {},
   "source": [
    "We first read the merged EuropaPark date"
   ]
  },
  {
   "cell_type": "code",
   "execution_count": 3,
   "metadata": {},
   "outputs": [
    {
     "name": "stdout",
     "output_type": "stream",
     "text": [
      "(14196903, 7)\n"
     ]
    }
   ],
   "source": [
    "ep_df = pd.read_parquet(ep_input_file)\n",
    "print(ep_df.shape)"
   ]
  },
  {
   "cell_type": "markdown",
   "metadata": {},
   "source": [
    "We need holiday data from 2017 to 2024 as we have data in this range"
   ]
  },
  {
   "cell_type": "code",
   "execution_count": 4,
   "metadata": {},
   "outputs": [
    {
     "name": "stdout",
     "output_type": "stream",
     "text": [
      "range(2017, 2025)\n"
     ]
    }
   ],
   "source": [
    "years = range(ep_df[\"timestamp\"].dt.year.min(), ep_df[\"timestamp\"].dt.year.max() + 1)\n",
    "print(years)"
   ]
  },
  {
   "cell_type": "markdown",
   "metadata": {},
   "source": [
    "## Swiss Holidays"
   ]
  },
  {
   "cell_type": "markdown",
   "metadata": {},
   "source": [
    "Since each canton in Switzerland has its own holidays, we will first check which holidays are most common in the cantons of Switzerland. We will then use this data to create a list of holidays for the entire country."
   ]
  },
  {
   "cell_type": "code",
   "execution_count": 5,
   "metadata": {},
   "outputs": [],
   "source": [
    "swiss_cantons = [\"ZH\", \"BE\", \"LU\", \"UR\", \"SZ\", \"OW\", \"NW\", \"GL\", \"ZG\", \"FR\", \"SO\", \"BS\", \"BL\", \"SH\", \"AR\", \"AI\", \"SG\", \"GR\", \"AG\", \"TG\", \"TI\", \"VD\", \"VS\", \"NE\", \"GE\", \"JU\"]"
   ]
  },
  {
   "cell_type": "code",
   "execution_count": 6,
   "metadata": {},
   "outputs": [
    {
     "name": "stdout",
     "output_type": "stream",
     "text": [
      "[(\"New Year's Day\", 208), ('Ascension Day', 208), ('National Day', 208), ('Christmas Day', 208), ('Good Friday', 184), ('Easter Monday', 152), ('Whit Monday', 152), (\"Saint Stephen's Day\", 120), (\"All Saints' Day\", 104), ('Corpus Christi', 96), ('Assumption Day', 88), ('Immaculate Conception', 80), ('Labor Day', 72), (\"Saint Berchtold's Day\", 58), (\"Saint Joseph's Day\", 40), ('Epiphany', 24), ('Saint Nicholas of Flüe', 8), ('Battle of Naefels Victory Day', 8), ('Saints Peter and Paul', 8), ('Prayer Monday', 8), ('Republic Day', 8), ('Genevan Fast', 8), ('Restoration Day', 8), ('Independence Day', 8)]\n"
     ]
    }
   ],
   "source": [
    "swiss_holiday_count = {}\n",
    "\n",
    "for terretory in swiss_cantons:\n",
    "    german_holidays = holidays.country_holidays(\"CH\", years=years, subdiv=terretory)\n",
    "    for _, name in german_holidays.items():\n",
    "        if name not in swiss_holiday_count:\n",
    "            swiss_holiday_count[name] = 0\n",
    "        swiss_holiday_count[name] += 1\n",
    "\n",
    "swiss_holiday_count = sorted(swiss_holiday_count.items(), key=lambda x: x[1], reverse=True)\n",
    "print(swiss_holiday_count)"
   ]
  },
  {
   "cell_type": "markdown",
   "metadata": {},
   "source": [
    "We see that in the range of 2017 to 2024, New Year's Day, Ascension Day, National Day and Christmas day are common holidays in all cantons. However, there are many other days that are present in many cantons.\n",
    "We use the threshold of 70 occurences during the 8 years to consider a holiday as common."
   ]
  },
  {
   "cell_type": "code",
   "execution_count": 7,
   "metadata": {},
   "outputs": [
    {
     "name": "stdout",
     "output_type": "stream",
     "text": [
      "[\"New Year's Day\", 'Ascension Day', 'National Day', 'Christmas Day', 'Good Friday', 'Easter Monday', 'Whit Monday', \"Saint Stephen's Day\", \"All Saints' Day\", 'Corpus Christi', 'Assumption Day', 'Immaculate Conception', 'Labor Day']\n"
     ]
    }
   ],
   "source": [
    "common_swiss_holidays = [name for name, count in swiss_holiday_count if count >= 70]\n",
    "print(common_swiss_holidays)"
   ]
  },
  {
   "cell_type": "code",
   "execution_count": 8,
   "metadata": {},
   "outputs": [
    {
     "name": "stdout",
     "output_type": "stream",
     "text": [
      "[datetime.date(2017, 1, 1), datetime.date(2017, 4, 14), datetime.date(2017, 4, 17), datetime.date(2017, 5, 1), datetime.date(2017, 5, 25), datetime.date(2017, 6, 5), datetime.date(2017, 6, 15), datetime.date(2017, 8, 1), datetime.date(2017, 8, 15), datetime.date(2017, 11, 1), datetime.date(2017, 12, 8), datetime.date(2017, 12, 25), datetime.date(2017, 12, 26), datetime.date(2018, 1, 1), datetime.date(2018, 3, 30), datetime.date(2018, 4, 2), datetime.date(2018, 5, 1), datetime.date(2018, 5, 10), datetime.date(2018, 5, 21), datetime.date(2018, 5, 31), datetime.date(2018, 8, 1), datetime.date(2018, 8, 15), datetime.date(2018, 11, 1), datetime.date(2018, 12, 8), datetime.date(2018, 12, 25), datetime.date(2018, 12, 26), datetime.date(2019, 1, 1), datetime.date(2019, 4, 19), datetime.date(2019, 4, 22), datetime.date(2019, 5, 1), datetime.date(2019, 5, 30), datetime.date(2019, 6, 10), datetime.date(2019, 6, 20), datetime.date(2019, 8, 1), datetime.date(2019, 8, 15), datetime.date(2019, 11, 1), datetime.date(2019, 12, 8), datetime.date(2019, 12, 25), datetime.date(2019, 12, 26), datetime.date(2020, 1, 1), datetime.date(2020, 4, 10), datetime.date(2020, 4, 13), datetime.date(2020, 5, 1), datetime.date(2020, 5, 21), datetime.date(2020, 6, 1), datetime.date(2020, 6, 11), datetime.date(2020, 8, 1), datetime.date(2020, 8, 15), datetime.date(2020, 11, 1), datetime.date(2020, 12, 8), datetime.date(2020, 12, 25), datetime.date(2020, 12, 26), datetime.date(2021, 1, 1), datetime.date(2021, 4, 2), datetime.date(2021, 4, 5), datetime.date(2021, 5, 1), datetime.date(2021, 5, 13), datetime.date(2021, 5, 24), datetime.date(2021, 6, 3), datetime.date(2021, 8, 1), datetime.date(2021, 8, 15), datetime.date(2021, 11, 1), datetime.date(2021, 12, 8), datetime.date(2021, 12, 25), datetime.date(2021, 12, 26), datetime.date(2022, 1, 1), datetime.date(2022, 4, 15), datetime.date(2022, 4, 18), datetime.date(2022, 5, 1), datetime.date(2022, 5, 26), datetime.date(2022, 6, 6), datetime.date(2022, 6, 16), datetime.date(2022, 8, 1), datetime.date(2022, 8, 15), datetime.date(2022, 11, 1), datetime.date(2022, 12, 8), datetime.date(2022, 12, 25), datetime.date(2022, 12, 26), datetime.date(2023, 1, 1), datetime.date(2023, 4, 7), datetime.date(2023, 4, 10), datetime.date(2023, 5, 1), datetime.date(2023, 5, 18), datetime.date(2023, 5, 29), datetime.date(2023, 6, 8), datetime.date(2023, 8, 1), datetime.date(2023, 8, 15), datetime.date(2023, 11, 1), datetime.date(2023, 12, 8), datetime.date(2023, 12, 25), datetime.date(2023, 12, 26), datetime.date(2024, 1, 1), datetime.date(2024, 3, 29), datetime.date(2024, 4, 1), datetime.date(2024, 5, 1), datetime.date(2024, 5, 9), datetime.date(2024, 5, 20), datetime.date(2024, 5, 30), datetime.date(2024, 8, 1), datetime.date(2024, 8, 15), datetime.date(2024, 11, 1), datetime.date(2024, 12, 8), datetime.date(2024, 12, 25), datetime.date(2024, 12, 26)]\n"
     ]
    }
   ],
   "source": [
    "swiss_holiday_dates = []\n",
    "for holiday in common_swiss_holidays:\n",
    "    for year in years:\n",
    "        bw_holiday_date = holidays.country_holidays(\"CH\", years=year, subdiv=\"AG\").get_named(holiday, lookup=\"exact\") # turns out that Aargau has all the holidays\n",
    "        assert bw_holiday_date, f\"Could not find date for {holiday} in {year}\"\n",
    "        swiss_holiday_dates.append(bw_holiday_date[0])\n",
    "\n",
    "swiss_holiday_dates = sorted(set(swiss_holiday_dates))\n",
    "print(swiss_holiday_dates)"
   ]
  },
  {
   "cell_type": "markdown",
   "metadata": {},
   "source": [
    "## German Holidays"
   ]
  },
  {
   "cell_type": "markdown",
   "metadata": {},
   "source": [
    "We apply the same logic for Germany as for Switzerland."
   ]
  },
  {
   "cell_type": "code",
   "execution_count": 9,
   "metadata": {},
   "outputs": [],
   "source": [
    "german_states = [\"BW\", \"BY\", \"BE\", \"BB\", \"HB\", \"HH\", \"HE\", \"MV\", \"NI\", \"NW\", \"RP\", \"SL\", \"SN\", \"ST\", \"SH\", \"TH\"]"
   ]
  },
  {
   "cell_type": "code",
   "execution_count": 10,
   "metadata": {},
   "outputs": [
    {
     "name": "stdout",
     "output_type": "stream",
     "text": [
      "[(\"New Year's Day\", 128), ('Good Friday', 128), ('Easter Monday', 128), ('Labor Day', 128), ('Ascension Day', 128), ('Whit Monday', 128), ('German Unity Day', 128), ('Christmas Day', 128), ('Second Day of Christmas', 128), ('Reformation Day', 79), ('Corpus Christi', 48), (\"All Saints' Day\", 40), ('Epiphany', 24), (\"International Women's Day\", 8), ('Easter Sunday', 8), ('Whit Sunday', 8), ('Assumption Day', 8), ('Repentance and Prayer Day', 8), (\"World Children's Day\", 6), ('75th anniversary of the liberation from Nazism and the end of the Second World War in Europe', 1)]\n"
     ]
    }
   ],
   "source": [
    "german_holiday_count = {}\n",
    "\n",
    "for terretory in german_states:\n",
    "    german_holidays = holidays.country_holidays(\"DE\", years=years, subdiv=terretory)\n",
    "    for _, name in german_holidays.items():\n",
    "        if name not in german_holiday_count:\n",
    "            german_holiday_count[name] = 0\n",
    "        german_holiday_count[name] += 1\n",
    "\n",
    "german_holiday_count = sorted(german_holiday_count.items(), key=lambda x: x[1], reverse=True)\n",
    "print(german_holiday_count)"
   ]
  },
  {
   "cell_type": "code",
   "execution_count": 11,
   "metadata": {},
   "outputs": [
    {
     "name": "stdout",
     "output_type": "stream",
     "text": [
      "[\"New Year's Day\", 'Good Friday', 'Easter Monday', 'Labor Day', 'Ascension Day', 'Whit Monday', 'German Unity Day', 'Christmas Day', 'Second Day of Christmas', 'Reformation Day', 'Corpus Christi', \"All Saints' Day\"]\n"
     ]
    }
   ],
   "source": [
    "common_german_holidays = [name for name, count in german_holiday_count if count >= 40]\n",
    "print(common_german_holidays)"
   ]
  },
  {
   "cell_type": "code",
   "execution_count": 12,
   "metadata": {},
   "outputs": [
    {
     "name": "stdout",
     "output_type": "stream",
     "text": [
      "[datetime.date(2017, 1, 1), datetime.date(2017, 4, 14), datetime.date(2017, 4, 17), datetime.date(2017, 5, 1), datetime.date(2017, 5, 25), datetime.date(2017, 6, 5), datetime.date(2017, 6, 15), datetime.date(2017, 10, 3), datetime.date(2017, 10, 31), datetime.date(2017, 11, 1), datetime.date(2017, 12, 25), datetime.date(2017, 12, 26), datetime.date(2018, 1, 1), datetime.date(2018, 3, 30), datetime.date(2018, 4, 2), datetime.date(2018, 5, 1), datetime.date(2018, 5, 10), datetime.date(2018, 5, 21), datetime.date(2018, 5, 31), datetime.date(2018, 10, 3), datetime.date(2018, 10, 31), datetime.date(2018, 11, 1), datetime.date(2018, 12, 25), datetime.date(2018, 12, 26), datetime.date(2019, 1, 1), datetime.date(2019, 4, 19), datetime.date(2019, 4, 22), datetime.date(2019, 5, 1), datetime.date(2019, 5, 30), datetime.date(2019, 6, 10), datetime.date(2019, 6, 20), datetime.date(2019, 10, 3), datetime.date(2019, 10, 31), datetime.date(2019, 11, 1), datetime.date(2019, 12, 25), datetime.date(2019, 12, 26), datetime.date(2020, 1, 1), datetime.date(2020, 4, 10), datetime.date(2020, 4, 13), datetime.date(2020, 5, 1), datetime.date(2020, 5, 21), datetime.date(2020, 6, 1), datetime.date(2020, 6, 11), datetime.date(2020, 10, 3), datetime.date(2020, 10, 31), datetime.date(2020, 11, 1), datetime.date(2020, 12, 25), datetime.date(2020, 12, 26), datetime.date(2021, 1, 1), datetime.date(2021, 4, 2), datetime.date(2021, 4, 5), datetime.date(2021, 5, 1), datetime.date(2021, 5, 13), datetime.date(2021, 5, 24), datetime.date(2021, 6, 3), datetime.date(2021, 10, 3), datetime.date(2021, 10, 31), datetime.date(2021, 11, 1), datetime.date(2021, 12, 25), datetime.date(2021, 12, 26), datetime.date(2022, 1, 1), datetime.date(2022, 4, 15), datetime.date(2022, 4, 18), datetime.date(2022, 5, 1), datetime.date(2022, 5, 26), datetime.date(2022, 6, 6), datetime.date(2022, 6, 16), datetime.date(2022, 10, 3), datetime.date(2022, 10, 31), datetime.date(2022, 11, 1), datetime.date(2022, 12, 25), datetime.date(2022, 12, 26), datetime.date(2023, 1, 1), datetime.date(2023, 4, 7), datetime.date(2023, 4, 10), datetime.date(2023, 5, 1), datetime.date(2023, 5, 18), datetime.date(2023, 5, 29), datetime.date(2023, 6, 8), datetime.date(2023, 10, 3), datetime.date(2023, 10, 31), datetime.date(2023, 11, 1), datetime.date(2023, 12, 25), datetime.date(2023, 12, 26), datetime.date(2024, 1, 1), datetime.date(2024, 3, 29), datetime.date(2024, 4, 1), datetime.date(2024, 5, 1), datetime.date(2024, 5, 9), datetime.date(2024, 5, 20), datetime.date(2024, 5, 30), datetime.date(2024, 10, 3), datetime.date(2024, 10, 31), datetime.date(2024, 11, 1), datetime.date(2024, 12, 25), datetime.date(2024, 12, 26)]\n"
     ]
    }
   ],
   "source": [
    "german_holiday_dates = []\n",
    "for holiday in common_german_holidays:\n",
    "    for year in years:\n",
    "        bw_holiday_date = holidays.country_holidays(\"DE\", years=year, subdiv=\"BW\").get_named(holiday, lookup=\"exact\")\n",
    "        hh_holiday_date = holidays.country_holidays(\"DE\", years=year, subdiv=\"HH\").get_named(holiday, lookup=\"exact\")\n",
    "        assert bw_holiday_date or hh_holiday_date, f\"Could not find date for {holiday} in {year}\"\n",
    "        if bw_holiday_date:\n",
    "            german_holiday_dates.append(bw_holiday_date[0])\n",
    "        elif hh_holiday_date:\n",
    "            german_holiday_dates.append(hh_holiday_date[0])\n",
    "\n",
    "german_holiday_dates = sorted(set(german_holiday_dates))\n",
    "print(german_holiday_dates)"
   ]
  },
  {
   "cell_type": "markdown",
   "metadata": {},
   "source": [
    "## French Holidays"
   ]
  },
  {
   "cell_type": "code",
   "execution_count": 13,
   "metadata": {},
   "outputs": [],
   "source": [
    "french_territories = [\"BL\", \"GES\", \"GP\", \"GY\", \"MF\", \"MQ\", \"NC\", \"PF\", \"RE\", \"WF\", \"YT\"]"
   ]
  },
  {
   "cell_type": "code",
   "execution_count": 14,
   "metadata": {},
   "outputs": [
    {
     "name": "stdout",
     "output_type": "stream",
     "text": [
      "[(\"New Year's Day\", 88), ('Labor Day', 88), ('Victory Day', 88), ('National Day', 88), ('Armistice Day', 88), ('Easter Monday', 88), ('Ascension Day', 88), ('Assumption Day', 88), (\"All Saints' Day\", 88), ('Christmas Day', 88), ('Whit Monday', 87), ('Abolition of Slavery', 54), ('Good Friday', 32), ('Feast of Victor Schoelcher', 16), (\"Saint Stephen's Day\", 8), ('Mi-Careme', 8), ('Citizenship Day', 8), ('Missionary Day', 8), ('Internal Autonomy Day', 8), ('Feast of Saint Peter Chanel', 8), ('Festival of the Territory', 8), ('Abolition of Slavery; Whit Monday', 1)]\n"
     ]
    }
   ],
   "source": [
    "french_holiday_count = {}\n",
    "\n",
    "for terretory in french_territories:\n",
    "    german_holidays = holidays.country_holidays(\"FR\", years=years, subdiv=terretory)\n",
    "    for _, name in german_holidays.items():\n",
    "        if name not in french_holiday_count:\n",
    "            french_holiday_count[name] = 0\n",
    "        french_holiday_count[name] += 1\n",
    "\n",
    "french_holiday_count = sorted(french_holiday_count.items(), key=lambda x: x[1], reverse=True)\n",
    "print(french_holiday_count)"
   ]
  },
  {
   "cell_type": "code",
   "execution_count": 15,
   "metadata": {},
   "outputs": [
    {
     "name": "stdout",
     "output_type": "stream",
     "text": [
      "[\"New Year's Day\", 'Labor Day', 'Victory Day', 'National Day', 'Armistice Day', 'Easter Monday', 'Ascension Day', 'Assumption Day', \"All Saints' Day\", 'Christmas Day', 'Whit Monday', 'Abolition of Slavery', 'Good Friday']\n"
     ]
    }
   ],
   "source": [
    "common_french_holidays = [name for name, count in french_holiday_count if count >= 30]\n",
    "print(common_french_holidays)"
   ]
  },
  {
   "cell_type": "code",
   "execution_count": 16,
   "metadata": {},
   "outputs": [
    {
     "name": "stdout",
     "output_type": "stream",
     "text": [
      "[datetime.date(2017, 1, 1), datetime.date(2017, 4, 14), datetime.date(2017, 4, 17), datetime.date(2017, 5, 1), datetime.date(2017, 5, 8), datetime.date(2017, 5, 25), datetime.date(2017, 5, 27), datetime.date(2017, 6, 5), datetime.date(2017, 7, 14), datetime.date(2017, 8, 15), datetime.date(2017, 11, 1), datetime.date(2017, 11, 11), datetime.date(2017, 12, 25), datetime.date(2018, 1, 1), datetime.date(2018, 3, 30), datetime.date(2018, 4, 2), datetime.date(2018, 5, 1), datetime.date(2018, 5, 8), datetime.date(2018, 5, 10), datetime.date(2018, 5, 21), datetime.date(2018, 5, 27), datetime.date(2018, 7, 14), datetime.date(2018, 8, 15), datetime.date(2018, 11, 1), datetime.date(2018, 11, 11), datetime.date(2018, 12, 25), datetime.date(2019, 1, 1), datetime.date(2019, 4, 19), datetime.date(2019, 4, 22), datetime.date(2019, 5, 1), datetime.date(2019, 5, 8), datetime.date(2019, 5, 27), datetime.date(2019, 5, 30), datetime.date(2019, 6, 10), datetime.date(2019, 7, 14), datetime.date(2019, 8, 15), datetime.date(2019, 11, 1), datetime.date(2019, 11, 11), datetime.date(2019, 12, 25), datetime.date(2020, 1, 1), datetime.date(2020, 4, 10), datetime.date(2020, 4, 13), datetime.date(2020, 5, 1), datetime.date(2020, 5, 8), datetime.date(2020, 5, 21), datetime.date(2020, 5, 27), datetime.date(2020, 6, 1), datetime.date(2020, 7, 14), datetime.date(2020, 8, 15), datetime.date(2020, 11, 1), datetime.date(2020, 11, 11), datetime.date(2020, 12, 25), datetime.date(2021, 1, 1), datetime.date(2021, 4, 2), datetime.date(2021, 4, 5), datetime.date(2021, 5, 1), datetime.date(2021, 5, 8), datetime.date(2021, 5, 13), datetime.date(2021, 5, 24), datetime.date(2021, 5, 27), datetime.date(2021, 7, 14), datetime.date(2021, 8, 15), datetime.date(2021, 11, 1), datetime.date(2021, 11, 11), datetime.date(2021, 12, 25), datetime.date(2022, 1, 1), datetime.date(2022, 4, 15), datetime.date(2022, 4, 18), datetime.date(2022, 5, 1), datetime.date(2022, 5, 8), datetime.date(2022, 5, 26), datetime.date(2022, 5, 27), datetime.date(2022, 6, 6), datetime.date(2022, 7, 14), datetime.date(2022, 8, 15), datetime.date(2022, 11, 1), datetime.date(2022, 11, 11), datetime.date(2022, 12, 25), datetime.date(2023, 1, 1), datetime.date(2023, 4, 7), datetime.date(2023, 4, 10), datetime.date(2023, 5, 1), datetime.date(2023, 5, 8), datetime.date(2023, 5, 18), datetime.date(2023, 5, 27), datetime.date(2023, 5, 29), datetime.date(2023, 7, 14), datetime.date(2023, 8, 15), datetime.date(2023, 11, 1), datetime.date(2023, 11, 11), datetime.date(2023, 12, 25), datetime.date(2024, 1, 1), datetime.date(2024, 3, 29), datetime.date(2024, 4, 1), datetime.date(2024, 5, 1), datetime.date(2024, 5, 8), datetime.date(2024, 5, 9), datetime.date(2024, 5, 20), datetime.date(2024, 5, 27), datetime.date(2024, 7, 14), datetime.date(2024, 8, 15), datetime.date(2024, 11, 1), datetime.date(2024, 11, 11), datetime.date(2024, 12, 25)]\n"
     ]
    }
   ],
   "source": [
    "french_holiday_dates = []\n",
    "for holiday in common_french_holidays:\n",
    "    for year in years:\n",
    "        bw_holiday_date = holidays.country_holidays(\"FR\", years=year, subdiv=\"GP\").get_named(holiday, lookup=\"exact\")\n",
    "        assert bw_holiday_date, f\"Could not find date for {holiday} in {year}\"\n",
    "        french_holiday_dates.append(bw_holiday_date[0])\n",
    "\n",
    "french_holiday_dates = sorted(set(french_holiday_dates))\n",
    "print(french_holiday_dates)"
   ]
  },
  {
   "cell_type": "markdown",
   "metadata": {},
   "source": [
    "## Add holiday columns"
   ]
  },
  {
   "cell_type": "markdown",
   "metadata": {},
   "source": [
    "Finally we add a column for each country marking the day as a holiday or not."
   ]
  },
  {
   "cell_type": "code",
   "execution_count": 17,
   "metadata": {},
   "outputs": [],
   "source": [
    "ep_df[\"is_german_holiday\"] = ep_df[\"timestamp\"].dt.date.isin(german_holiday_dates)\n",
    "ep_df[\"is_swiss_holiday\"] = ep_df[\"timestamp\"].dt.date.isin(swiss_holiday_dates)\n",
    "ep_df[\"is_french_holiday\"] = ep_df[\"timestamp\"].dt.date.isin(french_holiday_dates)"
   ]
  },
  {
   "cell_type": "markdown",
   "metadata": {},
   "source": [
    "Check the example of the 1st of November 2017, which is the \"Allerheiligen\" holiday in all three countries."
   ]
  },
  {
   "cell_type": "code",
   "execution_count": 20,
   "metadata": {},
   "outputs": [
    {
     "data": {
      "text/html": [
       "<div>\n",
       "<style scoped>\n",
       "    .dataframe tbody tr th:only-of-type {\n",
       "        vertical-align: middle;\n",
       "    }\n",
       "\n",
       "    .dataframe tbody tr th {\n",
       "        vertical-align: top;\n",
       "    }\n",
       "\n",
       "    .dataframe thead th {\n",
       "        text-align: right;\n",
       "    }\n",
       "</style>\n",
       "<table border=\"1\" class=\"dataframe\">\n",
       "  <thead>\n",
       "    <tr style=\"text-align: right;\">\n",
       "      <th></th>\n",
       "      <th>ride_name</th>\n",
       "      <th>timestamp</th>\n",
       "      <th>wait_time</th>\n",
       "      <th>closed</th>\n",
       "      <th>temperature</th>\n",
       "      <th>rain</th>\n",
       "      <th>wind</th>\n",
       "      <th>is_german_holiday</th>\n",
       "      <th>is_swiss_holiday</th>\n",
       "      <th>is_french_holiday</th>\n",
       "    </tr>\n",
       "  </thead>\n",
       "  <tbody>\n",
       "    <tr>\n",
       "      <th>12028277</th>\n",
       "      <td>pegasus</td>\n",
       "      <td>2023-11-01 09:00:00</td>\n",
       "      <td>1.0</td>\n",
       "      <td>False</td>\n",
       "      <td>10.0</td>\n",
       "      <td>0.0</td>\n",
       "      <td>1.4</td>\n",
       "      <td>True</td>\n",
       "      <td>True</td>\n",
       "      <td>True</td>\n",
       "    </tr>\n",
       "    <tr>\n",
       "      <th>12028278</th>\n",
       "      <td>poppy towers</td>\n",
       "      <td>2023-11-01 09:00:00</td>\n",
       "      <td>NaN</td>\n",
       "      <td>False</td>\n",
       "      <td>10.0</td>\n",
       "      <td>0.0</td>\n",
       "      <td>1.4</td>\n",
       "      <td>True</td>\n",
       "      <td>True</td>\n",
       "      <td>True</td>\n",
       "    </tr>\n",
       "    <tr>\n",
       "      <th>12028279</th>\n",
       "      <td>silver star</td>\n",
       "      <td>2023-11-01 09:00:00</td>\n",
       "      <td>5.0</td>\n",
       "      <td>False</td>\n",
       "      <td>10.0</td>\n",
       "      <td>0.0</td>\n",
       "      <td>1.4</td>\n",
       "      <td>True</td>\n",
       "      <td>True</td>\n",
       "      <td>True</td>\n",
       "    </tr>\n",
       "    <tr>\n",
       "      <th>12028280</th>\n",
       "      <td>swiss bob run</td>\n",
       "      <td>2023-11-01 09:00:00</td>\n",
       "      <td>1.0</td>\n",
       "      <td>False</td>\n",
       "      <td>10.0</td>\n",
       "      <td>0.0</td>\n",
       "      <td>1.4</td>\n",
       "      <td>True</td>\n",
       "      <td>True</td>\n",
       "      <td>True</td>\n",
       "    </tr>\n",
       "    <tr>\n",
       "      <th>12028281</th>\n",
       "      <td>tirol log flume</td>\n",
       "      <td>2023-11-01 09:00:00</td>\n",
       "      <td>NaN</td>\n",
       "      <td>False</td>\n",
       "      <td>10.0</td>\n",
       "      <td>0.0</td>\n",
       "      <td>1.4</td>\n",
       "      <td>True</td>\n",
       "      <td>True</td>\n",
       "      <td>True</td>\n",
       "    </tr>\n",
       "  </tbody>\n",
       "</table>\n",
       "</div>"
      ],
      "text/plain": [
       "                ride_name           timestamp  wait_time  closed  temperature  \\\n",
       "12028277          pegasus 2023-11-01 09:00:00        1.0   False         10.0   \n",
       "12028278     poppy towers 2023-11-01 09:00:00        NaN   False         10.0   \n",
       "12028279      silver star 2023-11-01 09:00:00        5.0   False         10.0   \n",
       "12028280    swiss bob run 2023-11-01 09:00:00        1.0   False         10.0   \n",
       "12028281  tirol log flume 2023-11-01 09:00:00        NaN   False         10.0   \n",
       "\n",
       "          rain  wind  is_german_holiday  is_swiss_holiday  is_french_holiday  \n",
       "12028277   0.0   1.4               True              True               True  \n",
       "12028278   0.0   1.4               True              True               True  \n",
       "12028279   0.0   1.4               True              True               True  \n",
       "12028280   0.0   1.4               True              True               True  \n",
       "12028281   0.0   1.4               True              True               True  "
      ]
     },
     "execution_count": 20,
     "metadata": {},
     "output_type": "execute_result"
    }
   ],
   "source": [
    "ep_df[ep_df[\"timestamp\"].dt.date == datetime.date(2023, 11, 1)].head(5)"
   ]
  },
  {
   "cell_type": "markdown",
   "metadata": {},
   "source": [
    "Also check the day after that, the 2nd of November 2023, which was a regular Thursday."
   ]
  },
  {
   "cell_type": "code",
   "execution_count": 21,
   "metadata": {},
   "outputs": [
    {
     "data": {
      "text/html": [
       "<div>\n",
       "<style scoped>\n",
       "    .dataframe tbody tr th:only-of-type {\n",
       "        vertical-align: middle;\n",
       "    }\n",
       "\n",
       "    .dataframe tbody tr th {\n",
       "        vertical-align: top;\n",
       "    }\n",
       "\n",
       "    .dataframe thead th {\n",
       "        text-align: right;\n",
       "    }\n",
       "</style>\n",
       "<table border=\"1\" class=\"dataframe\">\n",
       "  <thead>\n",
       "    <tr style=\"text-align: right;\">\n",
       "      <th></th>\n",
       "      <th>ride_name</th>\n",
       "      <th>timestamp</th>\n",
       "      <th>wait_time</th>\n",
       "      <th>closed</th>\n",
       "      <th>temperature</th>\n",
       "      <th>rain</th>\n",
       "      <th>wind</th>\n",
       "      <th>is_german_holiday</th>\n",
       "      <th>is_swiss_holiday</th>\n",
       "      <th>is_french_holiday</th>\n",
       "    </tr>\n",
       "  </thead>\n",
       "  <tbody>\n",
       "    <tr>\n",
       "      <th>12033352</th>\n",
       "      <td>pegasus</td>\n",
       "      <td>2023-11-02 09:00:00</td>\n",
       "      <td>1.0</td>\n",
       "      <td>False</td>\n",
       "      <td>9.9</td>\n",
       "      <td>2.5</td>\n",
       "      <td>2.9</td>\n",
       "      <td>False</td>\n",
       "      <td>False</td>\n",
       "      <td>False</td>\n",
       "    </tr>\n",
       "    <tr>\n",
       "      <th>12033353</th>\n",
       "      <td>poppy towers</td>\n",
       "      <td>2023-11-02 09:00:00</td>\n",
       "      <td>NaN</td>\n",
       "      <td>False</td>\n",
       "      <td>9.9</td>\n",
       "      <td>2.5</td>\n",
       "      <td>2.9</td>\n",
       "      <td>False</td>\n",
       "      <td>False</td>\n",
       "      <td>False</td>\n",
       "    </tr>\n",
       "    <tr>\n",
       "      <th>12033354</th>\n",
       "      <td>silver star</td>\n",
       "      <td>2023-11-02 09:00:00</td>\n",
       "      <td>5.0</td>\n",
       "      <td>False</td>\n",
       "      <td>9.9</td>\n",
       "      <td>2.5</td>\n",
       "      <td>2.9</td>\n",
       "      <td>False</td>\n",
       "      <td>False</td>\n",
       "      <td>False</td>\n",
       "    </tr>\n",
       "    <tr>\n",
       "      <th>12033355</th>\n",
       "      <td>swiss bob run</td>\n",
       "      <td>2023-11-02 09:00:00</td>\n",
       "      <td>1.0</td>\n",
       "      <td>False</td>\n",
       "      <td>9.9</td>\n",
       "      <td>2.5</td>\n",
       "      <td>2.9</td>\n",
       "      <td>False</td>\n",
       "      <td>False</td>\n",
       "      <td>False</td>\n",
       "    </tr>\n",
       "    <tr>\n",
       "      <th>12033356</th>\n",
       "      <td>tirol log flume</td>\n",
       "      <td>2023-11-02 09:00:00</td>\n",
       "      <td>NaN</td>\n",
       "      <td>False</td>\n",
       "      <td>9.9</td>\n",
       "      <td>2.5</td>\n",
       "      <td>2.9</td>\n",
       "      <td>False</td>\n",
       "      <td>False</td>\n",
       "      <td>False</td>\n",
       "    </tr>\n",
       "  </tbody>\n",
       "</table>\n",
       "</div>"
      ],
      "text/plain": [
       "                ride_name           timestamp  wait_time  closed  temperature  \\\n",
       "12033352          pegasus 2023-11-02 09:00:00        1.0   False          9.9   \n",
       "12033353     poppy towers 2023-11-02 09:00:00        NaN   False          9.9   \n",
       "12033354      silver star 2023-11-02 09:00:00        5.0   False          9.9   \n",
       "12033355    swiss bob run 2023-11-02 09:00:00        1.0   False          9.9   \n",
       "12033356  tirol log flume 2023-11-02 09:00:00        NaN   False          9.9   \n",
       "\n",
       "          rain  wind  is_german_holiday  is_swiss_holiday  is_french_holiday  \n",
       "12033352   2.5   2.9              False             False              False  \n",
       "12033353   2.5   2.9              False             False              False  \n",
       "12033354   2.5   2.9              False             False              False  \n",
       "12033355   2.5   2.9              False             False              False  \n",
       "12033356   2.5   2.9              False             False              False  "
      ]
     },
     "execution_count": 21,
     "metadata": {},
     "output_type": "execute_result"
    }
   ],
   "source": [
    "ep_df[ep_df[\"timestamp\"].dt.date == datetime.date(2023, 11, 2)].head(5)"
   ]
  },
  {
   "cell_type": "code",
   "execution_count": 19,
   "metadata": {},
   "outputs": [],
   "source": [
    "ep_df.to_parquet(ep_output_file, index=False)"
   ]
  }
 ],
 "metadata": {
  "kernelspec": {
   "display_name": "dspro2",
   "language": "python",
   "name": "python3"
  },
  "language_info": {
   "codemirror_mode": {
    "name": "ipython",
    "version": 3
   },
   "file_extension": ".py",
   "mimetype": "text/x-python",
   "name": "python",
   "nbconvert_exporter": "python",
   "pygments_lexer": "ipython3",
   "version": "3.10.16"
  }
 },
 "nbformat": 4,
 "nbformat_minor": 2
}
