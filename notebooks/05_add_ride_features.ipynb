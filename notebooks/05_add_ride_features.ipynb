{
 "cells": [
  {
   "cell_type": "markdown",
   "metadata": {},
   "source": [
    "Process Attraction Features Data\n",
    "This script reads the attraction features data from JSON and converts it to a parquet file"
   ]
  },
  {
   "cell_type": "markdown",
   "metadata": {},
   "source": [
    "import pandas as pd\n",
    "import json\n",
    "from pathlib import Path"
   ]
  },
  {
   "cell_type": "code",
   "execution_count": 1,
   "metadata": {},
   "outputs": [],
   "source": [
    "import pandas as pd\n",
    "import json\n",
    "from pathlib import Path\n"
   ]
  },
  {
   "cell_type": "markdown",
   "metadata": {},
   "source": [
    "Define paths"
   ]
  },
  {
   "cell_type": "code",
   "execution_count": 2,
   "metadata": {},
   "outputs": [],
   "source": [
    "data_dir = Path('../data')\n",
    "json_file = data_dir / 'attraction_features.json'\n",
    "parquet_file = data_dir / 'attraction_features.parquet'\n"
   ]
  },
  {
   "cell_type": "markdown",
   "metadata": {},
   "source": [
    "Read JSON data"
   ]
  },
  {
   "cell_type": "code",
   "execution_count": 3,
   "metadata": {},
   "outputs": [
    {
     "name": "stdout",
     "output_type": "stream",
     "text": [
      "DataFrame Info:\n",
      "<class 'pandas.core.frame.DataFrame'>\n",
      "RangeIndex: 36 entries, 0 to 35\n",
      "Data columns (total 10 columns):\n",
      " #   Column             Non-Null Count  Dtype \n",
      "---  ------             --------------  ----- \n",
      " 0   name               36 non-null     object\n",
      " 1   attraction_type    36 non-null     object\n",
      " 2   category           36 non-null     object\n",
      " 3   max_height         36 non-null     object\n",
      " 4   track_length       36 non-null     object\n",
      " 5   max_speed          36 non-null     object\n",
      " 6   g_force            36 non-null     object\n",
      " 7   min_age            36 non-null     object\n",
      " 8   min_height         36 non-null     object\n",
      " 9   capacity_per_hour  36 non-null     int64 \n",
      "dtypes: int64(1), object(9)\n",
      "memory usage: 2.9+ KB\n",
      "None\n",
      "\n",
      "First few rows:\n"
     ]
    },
    {
     "data": {
      "text/html": [
       "<div>\n",
       "<style scoped>\n",
       "    .dataframe tbody tr th:only-of-type {\n",
       "        vertical-align: middle;\n",
       "    }\n",
       "\n",
       "    .dataframe tbody tr th {\n",
       "        vertical-align: top;\n",
       "    }\n",
       "\n",
       "    .dataframe thead th {\n",
       "        text-align: right;\n",
       "    }\n",
       "</style>\n",
       "<table border=\"1\" class=\"dataframe\">\n",
       "  <thead>\n",
       "    <tr style=\"text-align: right;\">\n",
       "      <th></th>\n",
       "      <th>name</th>\n",
       "      <th>attraction_type</th>\n",
       "      <th>category</th>\n",
       "      <th>max_height</th>\n",
       "      <th>track_length</th>\n",
       "      <th>max_speed</th>\n",
       "      <th>g_force</th>\n",
       "      <th>min_age</th>\n",
       "      <th>min_height</th>\n",
       "      <th>capacity_per_hour</th>\n",
       "    </tr>\n",
       "  </thead>\n",
       "  <tbody>\n",
       "    <tr>\n",
       "      <th>0</th>\n",
       "      <td>silver star</td>\n",
       "      <td>Hyper Coaster</td>\n",
       "      <td>thrill</td>\n",
       "      <td>73 meters</td>\n",
       "      <td>1620 meters</td>\n",
       "      <td>127 km/h</td>\n",
       "      <td>4 G</td>\n",
       "      <td>8 years</td>\n",
       "      <td>140 cm</td>\n",
       "      <td>1750</td>\n",
       "    </tr>\n",
       "    <tr>\n",
       "      <th>1</th>\n",
       "      <td>blue fire megacoaster</td>\n",
       "      <td>Launched Coaster</td>\n",
       "      <td>thrill</td>\n",
       "      <td>38 meters</td>\n",
       "      <td>1056 meters</td>\n",
       "      <td>100 km/h</td>\n",
       "      <td>3.8 G</td>\n",
       "      <td>7 years</td>\n",
       "      <td>130 cm</td>\n",
       "      <td>1720</td>\n",
       "    </tr>\n",
       "    <tr>\n",
       "      <th>2</th>\n",
       "      <td>VirtualLine: WODAN - Timburcoaster</td>\n",
       "      <td>Wooden Coaster</td>\n",
       "      <td>thrill</td>\n",
       "      <td>40 meters</td>\n",
       "      <td>1050 meters</td>\n",
       "      <td>100 km/h</td>\n",
       "      <td>3.5 G</td>\n",
       "      <td>8 years</td>\n",
       "      <td>140 cm</td>\n",
       "      <td>1250</td>\n",
       "    </tr>\n",
       "    <tr>\n",
       "      <th>3</th>\n",
       "      <td>voletarium</td>\n",
       "      <td>Flying Theater</td>\n",
       "      <td>family</td>\n",
       "      <td>16 meters</td>\n",
       "      <td>N/A</td>\n",
       "      <td>25 km/h</td>\n",
       "      <td>1.5 G</td>\n",
       "      <td>All ages</td>\n",
       "      <td>None</td>\n",
       "      <td>1400</td>\n",
       "    </tr>\n",
       "    <tr>\n",
       "      <th>4</th>\n",
       "      <td>alpine express enzian</td>\n",
       "      <td>Powered Coaster</td>\n",
       "      <td>family</td>\n",
       "      <td>6 meters</td>\n",
       "      <td>430 meters</td>\n",
       "      <td>35 km/h</td>\n",
       "      <td>1.5 G</td>\n",
       "      <td>4 years</td>\n",
       "      <td>95 cm (with adult)</td>\n",
       "      <td>900</td>\n",
       "    </tr>\n",
       "  </tbody>\n",
       "</table>\n",
       "</div>"
      ],
      "text/plain": [
       "                                 name   attraction_type category max_height  \\\n",
       "0                         silver star     Hyper Coaster   thrill  73 meters   \n",
       "1               blue fire megacoaster  Launched Coaster   thrill  38 meters   \n",
       "2  VirtualLine: WODAN - Timburcoaster    Wooden Coaster   thrill  40 meters   \n",
       "3                          voletarium    Flying Theater   family  16 meters   \n",
       "4               alpine express enzian   Powered Coaster   family   6 meters   \n",
       "\n",
       "  track_length max_speed g_force   min_age          min_height  \\\n",
       "0  1620 meters  127 km/h     4 G   8 years              140 cm   \n",
       "1  1056 meters  100 km/h   3.8 G   7 years              130 cm   \n",
       "2  1050 meters  100 km/h   3.5 G   8 years              140 cm   \n",
       "3          N/A   25 km/h   1.5 G  All ages                None   \n",
       "4   430 meters   35 km/h   1.5 G   4 years  95 cm (with adult)   \n",
       "\n",
       "   capacity_per_hour  \n",
       "0               1750  \n",
       "1               1720  \n",
       "2               1250  \n",
       "3               1400  \n",
       "4                900  "
      ]
     },
     "metadata": {},
     "output_type": "display_data"
    }
   ],
   "source": [
    "with open(json_file, 'r', encoding='utf-8') as f:\n",
    "    data = json.load(f)\n",
    "\n",
    "df = pd.DataFrame(data)\n",
    "\n",
    "df_expanded = pd.json_normalize(df['attractions_features'].tolist())\n",
    "\n",
    "print(\"DataFrame Info:\")\n",
    "print(df_expanded.info())\n",
    "print(\"\\nFirst few rows:\")\n",
    "display(df_expanded.head())"
   ]
  },
  {
   "cell_type": "markdown",
   "metadata": {},
   "source": [
    "Display first few rows and info"
   ]
  },
  {
   "cell_type": "markdown",
   "metadata": {},
   "source": [
    "Save as parquet"
   ]
  },
  {
   "cell_type": "code",
   "execution_count": 4,
   "metadata": {},
   "outputs": [
    {
     "name": "stdout",
     "output_type": "stream",
     "text": [
      "Data saved to ..\\data\\attraction_features.parquet\n"
     ]
    }
   ],
   "source": [
    "df_expanded.to_parquet(parquet_file, index=False)\n",
    "print(f\"Data saved to {parquet_file}\")"
   ]
  },
  {
   "cell_type": "markdown",
   "metadata": {},
   "source": [
    "Verify the parquet file can be read"
   ]
  },
  {
   "cell_type": "code",
   "execution_count": 5,
   "metadata": {},
   "outputs": [
    {
     "name": "stdout",
     "output_type": "stream",
     "text": [
      "Verification - DataFrame Info:\n",
      "<class 'pandas.core.frame.DataFrame'>\n",
      "RangeIndex: 36 entries, 0 to 35\n",
      "Data columns (total 10 columns):\n",
      " #   Column             Non-Null Count  Dtype \n",
      "---  ------             --------------  ----- \n",
      " 0   name               36 non-null     object\n",
      " 1   attraction_type    36 non-null     object\n",
      " 2   category           36 non-null     object\n",
      " 3   max_height         36 non-null     object\n",
      " 4   track_length       36 non-null     object\n",
      " 5   max_speed          36 non-null     object\n",
      " 6   g_force            36 non-null     object\n",
      " 7   min_age            36 non-null     object\n",
      " 8   min_height         36 non-null     object\n",
      " 9   capacity_per_hour  36 non-null     int64 \n",
      "dtypes: int64(1), object(9)\n",
      "memory usage: 2.9+ KB\n",
      "None\n",
      "\n",
      "Verification - First few rows:\n"
     ]
    },
    {
     "data": {
      "text/html": [
       "<div>\n",
       "<style scoped>\n",
       "    .dataframe tbody tr th:only-of-type {\n",
       "        vertical-align: middle;\n",
       "    }\n",
       "\n",
       "    .dataframe tbody tr th {\n",
       "        vertical-align: top;\n",
       "    }\n",
       "\n",
       "    .dataframe thead th {\n",
       "        text-align: right;\n",
       "    }\n",
       "</style>\n",
       "<table border=\"1\" class=\"dataframe\">\n",
       "  <thead>\n",
       "    <tr style=\"text-align: right;\">\n",
       "      <th></th>\n",
       "      <th>name</th>\n",
       "      <th>attraction_type</th>\n",
       "      <th>category</th>\n",
       "      <th>max_height</th>\n",
       "      <th>track_length</th>\n",
       "      <th>max_speed</th>\n",
       "      <th>g_force</th>\n",
       "      <th>min_age</th>\n",
       "      <th>min_height</th>\n",
       "      <th>capacity_per_hour</th>\n",
       "    </tr>\n",
       "  </thead>\n",
       "  <tbody>\n",
       "    <tr>\n",
       "      <th>0</th>\n",
       "      <td>silver star</td>\n",
       "      <td>Hyper Coaster</td>\n",
       "      <td>thrill</td>\n",
       "      <td>73 meters</td>\n",
       "      <td>1620 meters</td>\n",
       "      <td>127 km/h</td>\n",
       "      <td>4 G</td>\n",
       "      <td>8 years</td>\n",
       "      <td>140 cm</td>\n",
       "      <td>1750</td>\n",
       "    </tr>\n",
       "    <tr>\n",
       "      <th>1</th>\n",
       "      <td>blue fire megacoaster</td>\n",
       "      <td>Launched Coaster</td>\n",
       "      <td>thrill</td>\n",
       "      <td>38 meters</td>\n",
       "      <td>1056 meters</td>\n",
       "      <td>100 km/h</td>\n",
       "      <td>3.8 G</td>\n",
       "      <td>7 years</td>\n",
       "      <td>130 cm</td>\n",
       "      <td>1720</td>\n",
       "    </tr>\n",
       "    <tr>\n",
       "      <th>2</th>\n",
       "      <td>VirtualLine: WODAN - Timburcoaster</td>\n",
       "      <td>Wooden Coaster</td>\n",
       "      <td>thrill</td>\n",
       "      <td>40 meters</td>\n",
       "      <td>1050 meters</td>\n",
       "      <td>100 km/h</td>\n",
       "      <td>3.5 G</td>\n",
       "      <td>8 years</td>\n",
       "      <td>140 cm</td>\n",
       "      <td>1250</td>\n",
       "    </tr>\n",
       "    <tr>\n",
       "      <th>3</th>\n",
       "      <td>voletarium</td>\n",
       "      <td>Flying Theater</td>\n",
       "      <td>family</td>\n",
       "      <td>16 meters</td>\n",
       "      <td>N/A</td>\n",
       "      <td>25 km/h</td>\n",
       "      <td>1.5 G</td>\n",
       "      <td>All ages</td>\n",
       "      <td>None</td>\n",
       "      <td>1400</td>\n",
       "    </tr>\n",
       "    <tr>\n",
       "      <th>4</th>\n",
       "      <td>alpine express enzian</td>\n",
       "      <td>Powered Coaster</td>\n",
       "      <td>family</td>\n",
       "      <td>6 meters</td>\n",
       "      <td>430 meters</td>\n",
       "      <td>35 km/h</td>\n",
       "      <td>1.5 G</td>\n",
       "      <td>4 years</td>\n",
       "      <td>95 cm (with adult)</td>\n",
       "      <td>900</td>\n",
       "    </tr>\n",
       "  </tbody>\n",
       "</table>\n",
       "</div>"
      ],
      "text/plain": [
       "                                 name   attraction_type category max_height  \\\n",
       "0                         silver star     Hyper Coaster   thrill  73 meters   \n",
       "1               blue fire megacoaster  Launched Coaster   thrill  38 meters   \n",
       "2  VirtualLine: WODAN - Timburcoaster    Wooden Coaster   thrill  40 meters   \n",
       "3                          voletarium    Flying Theater   family  16 meters   \n",
       "4               alpine express enzian   Powered Coaster   family   6 meters   \n",
       "\n",
       "  track_length max_speed g_force   min_age          min_height  \\\n",
       "0  1620 meters  127 km/h     4 G   8 years              140 cm   \n",
       "1  1056 meters  100 km/h   3.8 G   7 years              130 cm   \n",
       "2  1050 meters  100 km/h   3.5 G   8 years              140 cm   \n",
       "3          N/A   25 km/h   1.5 G  All ages                None   \n",
       "4   430 meters   35 km/h   1.5 G   4 years  95 cm (with adult)   \n",
       "\n",
       "   capacity_per_hour  \n",
       "0               1750  \n",
       "1               1720  \n",
       "2               1250  \n",
       "3               1400  \n",
       "4                900  "
      ]
     },
     "metadata": {},
     "output_type": "display_data"
    }
   ],
   "source": [
    "df_parquet = pd.read_parquet(parquet_file)\n",
    "print(\"Verification - DataFrame Info:\")\n",
    "print(df_parquet.info())\n",
    "print(\"\\nVerification - First few rows:\")\n",
    "display(df_parquet.head())"
   ]
  },
  {
   "cell_type": "code",
   "execution_count": 8,
   "metadata": {},
   "outputs": [
    {
     "name": "stderr",
     "output_type": "stream",
     "text": [
      "Adding features to rides: 100%|██████████| 14196903/14196903 [4:22:56<00:00, 899.87it/s]   \n"
     ]
    },
    {
     "ename": "MemoryError",
     "evalue": "",
     "output_type": "error",
     "traceback": [
      "\u001b[1;31m---------------------------------------------------------------------------\u001b[0m",
      "\u001b[1;31mMemoryError\u001b[0m                               Traceback (most recent call last)",
      "Cell \u001b[1;32mIn[8], line 14\u001b[0m\n\u001b[0;32m     11\u001b[0m     \u001b[38;5;28;01mreturn\u001b[39;00m row\n\u001b[0;32m     13\u001b[0m tqdm\u001b[38;5;241m.\u001b[39mpandas(desc\u001b[38;5;241m=\u001b[39m\u001b[38;5;124m\"\u001b[39m\u001b[38;5;124mAdding features to rides\u001b[39m\u001b[38;5;124m\"\u001b[39m)\n\u001b[1;32m---> 14\u001b[0m merged_rides_with_features \u001b[38;5;241m=\u001b[39m \u001b[43mmerged_rides\u001b[49m\u001b[38;5;241;43m.\u001b[39;49m\u001b[43mprogress_apply\u001b[49m\u001b[43m(\u001b[49m\u001b[43mget_attraction_features\u001b[49m\u001b[43m,\u001b[49m\u001b[43m \u001b[49m\u001b[43maxis\u001b[49m\u001b[38;5;241;43m=\u001b[39;49m\u001b[38;5;241;43m1\u001b[39;49m\u001b[43m)\u001b[49m\n\u001b[0;32m     16\u001b[0m merged_rides_with_features\u001b[38;5;241m.\u001b[39mto_parquet(data_dir \u001b[38;5;241m/\u001b[39m \u001b[38;5;124m'\u001b[39m\u001b[38;5;124mmerged_rides_with_features.parquet\u001b[39m\u001b[38;5;124m'\u001b[39m, index\u001b[38;5;241m=\u001b[39m\u001b[38;5;28;01mFalse\u001b[39;00m)\n\u001b[0;32m     18\u001b[0m \u001b[38;5;28mprint\u001b[39m(\u001b[38;5;124m\"\u001b[39m\u001b[38;5;130;01m\\n\u001b[39;00m\u001b[38;5;124mVerification of merged rides with features:\u001b[39m\u001b[38;5;124m\"\u001b[39m)\n",
      "File \u001b[1;32mc:\\Users\\Nevin\\AppData\\Local\\Programs\\Python\\Python312\\Lib\\site-packages\\tqdm\\std.py:917\u001b[0m, in \u001b[0;36mtqdm.pandas.<locals>.inner_generator.<locals>.inner\u001b[1;34m(df, func, *args, **kwargs)\u001b[0m\n\u001b[0;32m    914\u001b[0m \u001b[38;5;66;03m# Apply the provided function (in **kwargs)\u001b[39;00m\n\u001b[0;32m    915\u001b[0m \u001b[38;5;66;03m# on the df using our wrapper (which provides bar updating)\u001b[39;00m\n\u001b[0;32m    916\u001b[0m \u001b[38;5;28;01mtry\u001b[39;00m:\n\u001b[1;32m--> 917\u001b[0m     \u001b[38;5;28;01mreturn\u001b[39;00m \u001b[38;5;28;43mgetattr\u001b[39;49m\u001b[43m(\u001b[49m\u001b[43mdf\u001b[49m\u001b[43m,\u001b[49m\u001b[43m \u001b[49m\u001b[43mdf_function\u001b[49m\u001b[43m)\u001b[49m\u001b[43m(\u001b[49m\u001b[43mwrapper\u001b[49m\u001b[43m,\u001b[49m\u001b[43m \u001b[49m\u001b[38;5;241;43m*\u001b[39;49m\u001b[38;5;241;43m*\u001b[39;49m\u001b[43mkwargs\u001b[49m\u001b[43m)\u001b[49m\n\u001b[0;32m    918\u001b[0m \u001b[38;5;28;01mfinally\u001b[39;00m:\n\u001b[0;32m    919\u001b[0m     t\u001b[38;5;241m.\u001b[39mclose()\n",
      "File \u001b[1;32mc:\\Users\\Nevin\\AppData\\Local\\Programs\\Python\\Python312\\Lib\\site-packages\\pandas\\core\\frame.py:10374\u001b[0m, in \u001b[0;36mDataFrame.apply\u001b[1;34m(self, func, axis, raw, result_type, args, by_row, engine, engine_kwargs, **kwargs)\u001b[0m\n\u001b[0;32m  10360\u001b[0m \u001b[38;5;28;01mfrom\u001b[39;00m \u001b[38;5;21;01mpandas\u001b[39;00m\u001b[38;5;21;01m.\u001b[39;00m\u001b[38;5;21;01mcore\u001b[39;00m\u001b[38;5;21;01m.\u001b[39;00m\u001b[38;5;21;01mapply\u001b[39;00m \u001b[38;5;28;01mimport\u001b[39;00m frame_apply\n\u001b[0;32m  10362\u001b[0m op \u001b[38;5;241m=\u001b[39m frame_apply(\n\u001b[0;32m  10363\u001b[0m     \u001b[38;5;28mself\u001b[39m,\n\u001b[0;32m  10364\u001b[0m     func\u001b[38;5;241m=\u001b[39mfunc,\n\u001b[1;32m   (...)\u001b[0m\n\u001b[0;32m  10372\u001b[0m     kwargs\u001b[38;5;241m=\u001b[39mkwargs,\n\u001b[0;32m  10373\u001b[0m )\n\u001b[1;32m> 10374\u001b[0m \u001b[38;5;28;01mreturn\u001b[39;00m \u001b[43mop\u001b[49m\u001b[38;5;241;43m.\u001b[39;49m\u001b[43mapply\u001b[49m\u001b[43m(\u001b[49m\u001b[43m)\u001b[49m\u001b[38;5;241m.\u001b[39m__finalize__(\u001b[38;5;28mself\u001b[39m, method\u001b[38;5;241m=\u001b[39m\u001b[38;5;124m\"\u001b[39m\u001b[38;5;124mapply\u001b[39m\u001b[38;5;124m\"\u001b[39m)\n",
      "File \u001b[1;32mc:\\Users\\Nevin\\AppData\\Local\\Programs\\Python\\Python312\\Lib\\site-packages\\pandas\\core\\apply.py:916\u001b[0m, in \u001b[0;36mFrameApply.apply\u001b[1;34m(self)\u001b[0m\n\u001b[0;32m    913\u001b[0m \u001b[38;5;28;01melif\u001b[39;00m \u001b[38;5;28mself\u001b[39m\u001b[38;5;241m.\u001b[39mraw:\n\u001b[0;32m    914\u001b[0m     \u001b[38;5;28;01mreturn\u001b[39;00m \u001b[38;5;28mself\u001b[39m\u001b[38;5;241m.\u001b[39mapply_raw(engine\u001b[38;5;241m=\u001b[39m\u001b[38;5;28mself\u001b[39m\u001b[38;5;241m.\u001b[39mengine, engine_kwargs\u001b[38;5;241m=\u001b[39m\u001b[38;5;28mself\u001b[39m\u001b[38;5;241m.\u001b[39mengine_kwargs)\n\u001b[1;32m--> 916\u001b[0m \u001b[38;5;28;01mreturn\u001b[39;00m \u001b[38;5;28;43mself\u001b[39;49m\u001b[38;5;241;43m.\u001b[39;49m\u001b[43mapply_standard\u001b[49m\u001b[43m(\u001b[49m\u001b[43m)\u001b[49m\n",
      "File \u001b[1;32mc:\\Users\\Nevin\\AppData\\Local\\Programs\\Python\\Python312\\Lib\\site-packages\\pandas\\core\\apply.py:1068\u001b[0m, in \u001b[0;36mFrameApply.apply_standard\u001b[1;34m(self)\u001b[0m\n\u001b[0;32m   1065\u001b[0m     results, res_index \u001b[38;5;241m=\u001b[39m \u001b[38;5;28mself\u001b[39m\u001b[38;5;241m.\u001b[39mapply_series_numba()\n\u001b[0;32m   1067\u001b[0m \u001b[38;5;66;03m# wrap results\u001b[39;00m\n\u001b[1;32m-> 1068\u001b[0m \u001b[38;5;28;01mreturn\u001b[39;00m \u001b[38;5;28;43mself\u001b[39;49m\u001b[38;5;241;43m.\u001b[39;49m\u001b[43mwrap_results\u001b[49m\u001b[43m(\u001b[49m\u001b[43mresults\u001b[49m\u001b[43m,\u001b[49m\u001b[43m \u001b[49m\u001b[43mres_index\u001b[49m\u001b[43m)\u001b[49m\n",
      "File \u001b[1;32mc:\\Users\\Nevin\\AppData\\Local\\Programs\\Python\\Python312\\Lib\\site-packages\\pandas\\core\\apply.py:1107\u001b[0m, in \u001b[0;36mFrameApply.wrap_results\u001b[1;34m(self, results, res_index)\u001b[0m\n\u001b[0;32m   1105\u001b[0m \u001b[38;5;66;03m# see if we can infer the results\u001b[39;00m\n\u001b[0;32m   1106\u001b[0m \u001b[38;5;28;01mif\u001b[39;00m \u001b[38;5;28mlen\u001b[39m(results) \u001b[38;5;241m>\u001b[39m \u001b[38;5;241m0\u001b[39m \u001b[38;5;129;01mand\u001b[39;00m \u001b[38;5;241m0\u001b[39m \u001b[38;5;129;01min\u001b[39;00m results \u001b[38;5;129;01mand\u001b[39;00m is_sequence(results[\u001b[38;5;241m0\u001b[39m]):\n\u001b[1;32m-> 1107\u001b[0m     \u001b[38;5;28;01mreturn\u001b[39;00m \u001b[38;5;28;43mself\u001b[39;49m\u001b[38;5;241;43m.\u001b[39;49m\u001b[43mwrap_results_for_axis\u001b[49m\u001b[43m(\u001b[49m\u001b[43mresults\u001b[49m\u001b[43m,\u001b[49m\u001b[43m \u001b[49m\u001b[43mres_index\u001b[49m\u001b[43m)\u001b[49m\n\u001b[0;32m   1109\u001b[0m \u001b[38;5;66;03m# dict of scalars\u001b[39;00m\n\u001b[0;32m   1110\u001b[0m \n\u001b[0;32m   1111\u001b[0m \u001b[38;5;66;03m# the default dtype of an empty Series is `object`, but this\u001b[39;00m\n\u001b[0;32m   1112\u001b[0m \u001b[38;5;66;03m# code can be hit by df.mean() where the result should have dtype\u001b[39;00m\n\u001b[0;32m   1113\u001b[0m \u001b[38;5;66;03m# float64 even if it's an empty Series.\u001b[39;00m\n\u001b[0;32m   1114\u001b[0m constructor_sliced \u001b[38;5;241m=\u001b[39m \u001b[38;5;28mself\u001b[39m\u001b[38;5;241m.\u001b[39mobj\u001b[38;5;241m.\u001b[39m_constructor_sliced\n",
      "File \u001b[1;32mc:\\Users\\Nevin\\AppData\\Local\\Programs\\Python\\Python312\\Lib\\site-packages\\pandas\\core\\apply.py:1354\u001b[0m, in \u001b[0;36mFrameColumnApply.wrap_results_for_axis\u001b[1;34m(self, results, res_index)\u001b[0m\n\u001b[0;32m   1350\u001b[0m     result\u001b[38;5;241m.\u001b[39mindex \u001b[38;5;241m=\u001b[39m res_index\n\u001b[0;32m   1352\u001b[0m \u001b[38;5;66;03m# we may want to infer results\u001b[39;00m\n\u001b[0;32m   1353\u001b[0m \u001b[38;5;28;01melse\u001b[39;00m:\n\u001b[1;32m-> 1354\u001b[0m     result \u001b[38;5;241m=\u001b[39m \u001b[38;5;28;43mself\u001b[39;49m\u001b[38;5;241;43m.\u001b[39;49m\u001b[43minfer_to_same_shape\u001b[49m\u001b[43m(\u001b[49m\u001b[43mresults\u001b[49m\u001b[43m,\u001b[49m\u001b[43m \u001b[49m\u001b[43mres_index\u001b[49m\u001b[43m)\u001b[49m\n\u001b[0;32m   1356\u001b[0m \u001b[38;5;28;01mreturn\u001b[39;00m result\n",
      "File \u001b[1;32mc:\\Users\\Nevin\\AppData\\Local\\Programs\\Python\\Python312\\Lib\\site-packages\\pandas\\core\\apply.py:1360\u001b[0m, in \u001b[0;36mFrameColumnApply.infer_to_same_shape\u001b[1;34m(self, results, res_index)\u001b[0m\n\u001b[0;32m   1358\u001b[0m \u001b[38;5;28;01mdef\u001b[39;00m \u001b[38;5;21minfer_to_same_shape\u001b[39m(\u001b[38;5;28mself\u001b[39m, results: ResType, res_index: Index) \u001b[38;5;241m-\u001b[39m\u001b[38;5;241m>\u001b[39m DataFrame:\n\u001b[0;32m   1359\u001b[0m \u001b[38;5;250m    \u001b[39m\u001b[38;5;124;03m\"\"\"infer the results to the same shape as the input object\"\"\"\u001b[39;00m\n\u001b[1;32m-> 1360\u001b[0m     result \u001b[38;5;241m=\u001b[39m \u001b[38;5;28;43mself\u001b[39;49m\u001b[38;5;241;43m.\u001b[39;49m\u001b[43mobj\u001b[49m\u001b[38;5;241;43m.\u001b[39;49m\u001b[43m_constructor\u001b[49m\u001b[43m(\u001b[49m\u001b[43mdata\u001b[49m\u001b[38;5;241;43m=\u001b[39;49m\u001b[43mresults\u001b[49m\u001b[43m)\u001b[49m\n\u001b[0;32m   1361\u001b[0m     result \u001b[38;5;241m=\u001b[39m result\u001b[38;5;241m.\u001b[39mT\n\u001b[0;32m   1363\u001b[0m     \u001b[38;5;66;03m# set the index\u001b[39;00m\n",
      "File \u001b[1;32mc:\\Users\\Nevin\\AppData\\Local\\Programs\\Python\\Python312\\Lib\\site-packages\\pandas\\core\\frame.py:778\u001b[0m, in \u001b[0;36mDataFrame.__init__\u001b[1;34m(self, data, index, columns, dtype, copy)\u001b[0m\n\u001b[0;32m    772\u001b[0m     mgr \u001b[38;5;241m=\u001b[39m \u001b[38;5;28mself\u001b[39m\u001b[38;5;241m.\u001b[39m_init_mgr(\n\u001b[0;32m    773\u001b[0m         data, axes\u001b[38;5;241m=\u001b[39m{\u001b[38;5;124m\"\u001b[39m\u001b[38;5;124mindex\u001b[39m\u001b[38;5;124m\"\u001b[39m: index, \u001b[38;5;124m\"\u001b[39m\u001b[38;5;124mcolumns\u001b[39m\u001b[38;5;124m\"\u001b[39m: columns}, dtype\u001b[38;5;241m=\u001b[39mdtype, copy\u001b[38;5;241m=\u001b[39mcopy\n\u001b[0;32m    774\u001b[0m     )\n\u001b[0;32m    776\u001b[0m \u001b[38;5;28;01melif\u001b[39;00m \u001b[38;5;28misinstance\u001b[39m(data, \u001b[38;5;28mdict\u001b[39m):\n\u001b[0;32m    777\u001b[0m     \u001b[38;5;66;03m# GH#38939 de facto copy defaults to False only in non-dict cases\u001b[39;00m\n\u001b[1;32m--> 778\u001b[0m     mgr \u001b[38;5;241m=\u001b[39m \u001b[43mdict_to_mgr\u001b[49m\u001b[43m(\u001b[49m\u001b[43mdata\u001b[49m\u001b[43m,\u001b[49m\u001b[43m \u001b[49m\u001b[43mindex\u001b[49m\u001b[43m,\u001b[49m\u001b[43m \u001b[49m\u001b[43mcolumns\u001b[49m\u001b[43m,\u001b[49m\u001b[43m \u001b[49m\u001b[43mdtype\u001b[49m\u001b[38;5;241;43m=\u001b[39;49m\u001b[43mdtype\u001b[49m\u001b[43m,\u001b[49m\u001b[43m \u001b[49m\u001b[43mcopy\u001b[49m\u001b[38;5;241;43m=\u001b[39;49m\u001b[43mcopy\u001b[49m\u001b[43m,\u001b[49m\u001b[43m \u001b[49m\u001b[43mtyp\u001b[49m\u001b[38;5;241;43m=\u001b[39;49m\u001b[43mmanager\u001b[49m\u001b[43m)\u001b[49m\n\u001b[0;32m    779\u001b[0m \u001b[38;5;28;01melif\u001b[39;00m \u001b[38;5;28misinstance\u001b[39m(data, ma\u001b[38;5;241m.\u001b[39mMaskedArray):\n\u001b[0;32m    780\u001b[0m     \u001b[38;5;28;01mfrom\u001b[39;00m \u001b[38;5;21;01mnumpy\u001b[39;00m\u001b[38;5;21;01m.\u001b[39;00m\u001b[38;5;21;01mma\u001b[39;00m \u001b[38;5;28;01mimport\u001b[39;00m mrecords\n",
      "File \u001b[1;32mc:\\Users\\Nevin\\AppData\\Local\\Programs\\Python\\Python312\\Lib\\site-packages\\pandas\\core\\internals\\construction.py:488\u001b[0m, in \u001b[0;36mdict_to_mgr\u001b[1;34m(data, index, columns, dtype, typ, copy)\u001b[0m\n\u001b[0;32m    483\u001b[0m \u001b[38;5;28;01mif\u001b[39;00m copy:\n\u001b[0;32m    484\u001b[0m     \u001b[38;5;28;01mif\u001b[39;00m typ \u001b[38;5;241m==\u001b[39m \u001b[38;5;124m\"\u001b[39m\u001b[38;5;124mblock\u001b[39m\u001b[38;5;124m\"\u001b[39m:\n\u001b[0;32m    485\u001b[0m         \u001b[38;5;66;03m# We only need to copy arrays that will not get consolidated, i.e.\u001b[39;00m\n\u001b[0;32m    486\u001b[0m         \u001b[38;5;66;03m#  only EA arrays\u001b[39;00m\n\u001b[0;32m    487\u001b[0m         arrays \u001b[38;5;241m=\u001b[39m [\n\u001b[1;32m--> 488\u001b[0m             x\u001b[38;5;241m.\u001b[39mcopy()\n\u001b[0;32m    489\u001b[0m             \u001b[38;5;28;01mif\u001b[39;00m \u001b[38;5;28misinstance\u001b[39m(x, ExtensionArray)\n\u001b[0;32m    490\u001b[0m             \u001b[38;5;28;01melse\u001b[39;00m x\u001b[38;5;241m.\u001b[39mcopy(deep\u001b[38;5;241m=\u001b[39m\u001b[38;5;28;01mTrue\u001b[39;00m)\n\u001b[0;32m    491\u001b[0m             \u001b[38;5;28;01mif\u001b[39;00m (\n\u001b[0;32m    492\u001b[0m                 \u001b[38;5;28misinstance\u001b[39m(x, Index)\n\u001b[0;32m    493\u001b[0m                 \u001b[38;5;129;01mor\u001b[39;00m \u001b[38;5;28misinstance\u001b[39m(x, ABCSeries)\n\u001b[0;32m    494\u001b[0m                 \u001b[38;5;129;01mand\u001b[39;00m is_1d_only_ea_dtype(x\u001b[38;5;241m.\u001b[39mdtype)\n\u001b[0;32m    495\u001b[0m             )\n\u001b[0;32m    496\u001b[0m             \u001b[38;5;28;01melse\u001b[39;00m x\n\u001b[0;32m    497\u001b[0m             \u001b[38;5;28;01mfor\u001b[39;00m x \u001b[38;5;129;01min\u001b[39;00m arrays\n\u001b[0;32m    498\u001b[0m         ]\n\u001b[0;32m    499\u001b[0m     \u001b[38;5;28;01melse\u001b[39;00m:\n\u001b[0;32m    500\u001b[0m         \u001b[38;5;66;03m# dtype check to exclude e.g. range objects, scalars\u001b[39;00m\n\u001b[0;32m    501\u001b[0m         arrays \u001b[38;5;241m=\u001b[39m [x\u001b[38;5;241m.\u001b[39mcopy() \u001b[38;5;28;01mif\u001b[39;00m \u001b[38;5;28mhasattr\u001b[39m(x, \u001b[38;5;124m\"\u001b[39m\u001b[38;5;124mdtype\u001b[39m\u001b[38;5;124m\"\u001b[39m) \u001b[38;5;28;01melse\u001b[39;00m x \u001b[38;5;28;01mfor\u001b[39;00m x \u001b[38;5;129;01min\u001b[39;00m arrays]\n",
      "\u001b[1;31mMemoryError\u001b[0m: "
     ]
    }
   ],
   "source": [
    "from tqdm import tqdm\n",
    "\n",
    "merged_rides = pd.read_parquet(data_dir / 'processed/ep/merged_with_holidays.parquet')\n",
    "\n",
    "attraction_features_dict = df_expanded.set_index('name').to_dict('index')\n",
    "\n",
    "def get_attraction_features(row):\n",
    "    features = attraction_features_dict.get(row['ride_name'], {})\n",
    "    for key, value in features.items():\n",
    "        row[f'feature_{key}'] = value\n",
    "    return row\n",
    "\n",
    "tqdm.pandas(desc=\"Adding features to rides\")\n",
    "merged_rides_with_features = merged_rides.progress_apply(get_attraction_features, axis=1)\n",
    "\n",
    "merged_rides_with_features.to_parquet(data_dir / 'merged_rides_with_features.parquet', index=False)\n",
    "\n",
    "print(\"\\nVerification of merged rides with features:\")\n",
    "print(merged_rides_with_features.info())\n",
    "print(\"\\nSample of merged rides with features:\")\n",
    "display(merged_rides_with_features.head())\n",
    "\n",
    "new_columns = [col for col in merged_rides_with_features.columns if col not in merged_rides.columns]\n",
    "print(\"\\nNewly added feature columns:\")\n",
    "print(new_columns)"
   ]
  },
  {
   "cell_type": "code",
   "execution_count": null,
   "metadata": {},
   "outputs": [],
   "source": []
  }
 ],
 "metadata": {
  "kernelspec": {
   "display_name": "Python 3",
   "language": "python",
   "name": "python3"
  },
  "language_info": {
   "codemirror_mode": {
    "name": "ipython",
    "version": 3
   },
   "file_extension": ".py",
   "mimetype": "text/x-python",
   "name": "python",
   "nbconvert_exporter": "python",
   "pygments_lexer": "ipython3",
   "version": "3.12.3"
  }
 },
 "nbformat": 4,
 "nbformat_minor": 2
}
