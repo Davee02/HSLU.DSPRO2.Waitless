{
 "cells": [
  {
   "cell_type": "code",
   "execution_count": 2,
   "metadata": {},
   "outputs": [],
   "source": [
    "import os\n",
    "import datetime\n",
    "\n",
    "import pandas as pd"
   ]
  },
  {
   "cell_type": "markdown",
   "metadata": {},
   "source": [
    "## Load the Data"
   ]
  },
  {
   "cell_type": "code",
   "execution_count": 25,
   "metadata": {},
   "outputs": [],
   "source": [
    "data_input_dir = \"../data/processed\"\n",
    "input_file = os.path.join(data_input_dir, \"ep\", \"merged_data.parquet\")\n",
    "\n",
    "splits_output_dir = \"../data/processed/splits\"\n",
    "os.makedirs(splits_output_dir, exist_ok=True)"
   ]
  },
  {
   "cell_type": "code",
   "execution_count": 4,
   "metadata": {},
   "outputs": [
    {
     "name": "stdout",
     "output_type": "stream",
     "text": [
      "(14196903, 7)\n"
     ]
    }
   ],
   "source": [
    "ep_df = pd.read_parquet(input_file)\n",
    "print(ep_df.shape)"
   ]
  },
  {
   "cell_type": "code",
   "execution_count": 6,
   "metadata": {},
   "outputs": [
    {
     "data": {
      "text/html": [
       "<div>\n",
       "<style scoped>\n",
       "    .dataframe tbody tr th:only-of-type {\n",
       "        vertical-align: middle;\n",
       "    }\n",
       "\n",
       "    .dataframe tbody tr th {\n",
       "        vertical-align: top;\n",
       "    }\n",
       "\n",
       "    .dataframe thead th {\n",
       "        text-align: right;\n",
       "    }\n",
       "</style>\n",
       "<table border=\"1\" class=\"dataframe\">\n",
       "  <thead>\n",
       "    <tr style=\"text-align: right;\">\n",
       "      <th></th>\n",
       "      <th>ride_name</th>\n",
       "      <th>timestamp</th>\n",
       "      <th>wait_time</th>\n",
       "      <th>closed</th>\n",
       "      <th>temperature</th>\n",
       "      <th>rain</th>\n",
       "      <th>wind</th>\n",
       "    </tr>\n",
       "  </thead>\n",
       "  <tbody>\n",
       "    <tr>\n",
       "      <th>0</th>\n",
       "      <td>alpine express enzian</td>\n",
       "      <td>2017-05-23 09:00:00</td>\n",
       "      <td>1.0</td>\n",
       "      <td>False</td>\n",
       "      <td>18.7</td>\n",
       "      <td>0.0</td>\n",
       "      <td>1.1</td>\n",
       "    </tr>\n",
       "    <tr>\n",
       "      <th>1</th>\n",
       "      <td>poppy towers</td>\n",
       "      <td>2017-05-23 09:00:00</td>\n",
       "      <td>0.0</td>\n",
       "      <td>False</td>\n",
       "      <td>18.7</td>\n",
       "      <td>0.0</td>\n",
       "      <td>1.1</td>\n",
       "    </tr>\n",
       "    <tr>\n",
       "      <th>2</th>\n",
       "      <td>silver star</td>\n",
       "      <td>2017-05-23 09:00:00</td>\n",
       "      <td>0.0</td>\n",
       "      <td>False</td>\n",
       "      <td>18.7</td>\n",
       "      <td>0.0</td>\n",
       "      <td>1.1</td>\n",
       "    </tr>\n",
       "    <tr>\n",
       "      <th>3</th>\n",
       "      <td>swiss bob run</td>\n",
       "      <td>2017-05-23 09:00:00</td>\n",
       "      <td>1.0</td>\n",
       "      <td>False</td>\n",
       "      <td>18.7</td>\n",
       "      <td>0.0</td>\n",
       "      <td>1.1</td>\n",
       "    </tr>\n",
       "    <tr>\n",
       "      <th>4</th>\n",
       "      <td>tirol log flume</td>\n",
       "      <td>2017-05-23 09:00:00</td>\n",
       "      <td>1.0</td>\n",
       "      <td>False</td>\n",
       "      <td>18.7</td>\n",
       "      <td>0.0</td>\n",
       "      <td>1.1</td>\n",
       "    </tr>\n",
       "  </tbody>\n",
       "</table>\n",
       "</div>"
      ],
      "text/plain": [
       "               ride_name           timestamp  wait_time  closed  temperature  \\\n",
       "0  alpine express enzian 2017-05-23 09:00:00        1.0   False         18.7   \n",
       "1           poppy towers 2017-05-23 09:00:00        0.0   False         18.7   \n",
       "2            silver star 2017-05-23 09:00:00        0.0   False         18.7   \n",
       "3          swiss bob run 2017-05-23 09:00:00        1.0   False         18.7   \n",
       "4        tirol log flume 2017-05-23 09:00:00        1.0   False         18.7   \n",
       "\n",
       "   rain  wind  \n",
       "0   0.0   1.1  \n",
       "1   0.0   1.1  \n",
       "2   0.0   1.1  \n",
       "3   0.0   1.1  \n",
       "4   0.0   1.1  "
      ]
     },
     "execution_count": 6,
     "metadata": {},
     "output_type": "execute_result"
    }
   ],
   "source": [
    "ep_df.head()"
   ]
  },
  {
   "cell_type": "markdown",
   "metadata": {},
   "source": [
    "## Create the Splits\n",
    "\n",
    "We will split the data into a training, validation and test set using the following methology:\n",
    "- 2017 - 2022: Training\n",
    "- 2023: Validation\n",
    "- 2024: Test\n",
    "\n",
    "This approximates a commonly used 80/10/10 split."
   ]
  },
  {
   "cell_type": "code",
   "execution_count": 8,
   "metadata": {},
   "outputs": [],
   "source": [
    "train_indices = ep_df[ep_df[\"timestamp\"] < datetime.datetime(2023, 1, 1)].index\n",
    "validation_indices = ep_df[(ep_df[\"timestamp\"] >= datetime.datetime(2023, 1, 1)) & (ep_df[\"timestamp\"] < datetime.datetime(2024, 1, 1))].index\n",
    "test_indices = ep_df[ep_df[\"timestamp\"] >= datetime.datetime(2024, 1, 1)].index"
   ]
  },
  {
   "cell_type": "markdown",
   "metadata": {},
   "source": [
    "Check the shapes of the splits to ensure they contain the correct number of rows."
   ]
  },
  {
   "cell_type": "code",
   "execution_count": 10,
   "metadata": {},
   "outputs": [
    {
     "data": {
      "text/plain": [
       "((10485477,), (1852375,), (1859051,))"
      ]
     },
     "execution_count": 10,
     "metadata": {},
     "output_type": "execute_result"
    }
   ],
   "source": [
    "train_indices.shape, validation_indices.shape, test_indices.shape"
   ]
  },
  {
   "cell_type": "markdown",
   "metadata": {},
   "source": [
    "We print the first and last few indices of each split to ensure the data is correctly split."
   ]
  },
  {
   "cell_type": "code",
   "execution_count": 16,
   "metadata": {},
   "outputs": [
    {
     "name": "stdout",
     "output_type": "stream",
     "text": [
      "Index([0, 1, 2, 3, 4], dtype='int64') Index([10485472, 10485473, 10485474, 10485475, 10485476], dtype='int64')\n",
      "Index([10485477, 10485478, 10485479, 10485480, 10485481], dtype='int64') Index([12337847, 12337848, 12337849, 12337850, 12337851], dtype='int64')\n",
      "Index([12337852, 12337853, 12337854, 12337855, 12337856], dtype='int64') Index([14196898, 14196899, 14196900, 14196901, 14196902], dtype='int64')\n"
     ]
    }
   ],
   "source": [
    "print(train_indices[:5], train_indices[-5:])\n",
    "print(validation_indices[:5], validation_indices[-5:])\n",
    "print(test_indices[:5], test_indices[-5:])"
   ]
  },
  {
   "cell_type": "markdown",
   "metadata": {},
   "source": [
    "Also print the first few timestamps of each split to ensure the data doesn't overlap between splits."
   ]
  },
  {
   "cell_type": "code",
   "execution_count": 22,
   "metadata": {},
   "outputs": [
    {
     "name": "stdout",
     "output_type": "stream",
     "text": [
      "Train set:\n",
      "            timestamp\n",
      "0 2017-05-23 09:00:00\n",
      "1 2017-05-23 09:00:00\n",
      "2 2017-05-23 09:00:00\n",
      "3 2017-05-23 09:00:00\n",
      "4 2017-05-23 09:00:00\n",
      "                   timestamp\n",
      "10485472 2022-12-31 21:00:00\n",
      "10485473 2022-12-31 21:00:00\n",
      "10485474 2022-12-31 21:00:00\n",
      "10485475 2022-12-31 21:00:00\n",
      "10485476 2022-12-31 21:00:00\n",
      "\n",
      "Validation set:\n",
      "                   timestamp\n",
      "10485477 2023-01-01 09:00:00\n",
      "10485478 2023-01-01 09:00:00\n",
      "10485479 2023-01-01 09:00:00\n",
      "10485480 2023-01-01 09:00:00\n",
      "10485481 2023-01-01 09:00:00\n",
      "                   timestamp\n",
      "12337847 2023-12-31 21:00:00\n",
      "12337848 2023-12-31 21:00:00\n",
      "12337849 2023-12-31 21:00:00\n",
      "12337850 2023-12-31 21:00:00\n",
      "12337851 2023-12-31 21:00:00\n",
      "\n",
      "Test set:\n",
      "                   timestamp\n",
      "12337852 2024-01-01 09:00:00\n",
      "12337853 2024-01-01 09:00:00\n",
      "12337854 2024-01-01 09:00:00\n",
      "12337855 2024-01-01 09:00:00\n",
      "12337856 2024-01-01 09:00:00\n",
      "                   timestamp\n",
      "14196898 2024-12-31 21:00:00\n",
      "14196899 2024-12-31 21:00:00\n",
      "14196900 2024-12-31 21:00:00\n",
      "14196901 2024-12-31 21:00:00\n",
      "14196902 2024-12-31 21:00:00\n"
     ]
    }
   ],
   "source": [
    "print(\"Train set:\")\n",
    "print(ep_df.loc[train_indices[:5], [\"timestamp\"]])\n",
    "print(ep_df.loc[train_indices[-5:], [\"timestamp\"]])\n",
    "print()\n",
    "print(\"Validation set:\")\n",
    "print(ep_df.loc[validation_indices[:5], [\"timestamp\"]])\n",
    "print(ep_df.loc[validation_indices[-5:], [\"timestamp\"]])\n",
    "print()\n",
    "print(\"Test set:\")\n",
    "print(ep_df.loc[test_indices[:5], [\"timestamp\"]])\n",
    "print(ep_df.loc[test_indices[-5:], [\"timestamp\"]])"
   ]
  },
  {
   "cell_type": "markdown",
   "metadata": {},
   "source": [
    "Finally, we save the splits to parquet files for further use."
   ]
  },
  {
   "cell_type": "code",
   "execution_count": 26,
   "metadata": {},
   "outputs": [],
   "source": [
    "train_indices_series = pd.DataFrame(train_indices)\n",
    "validation_indices_series = pd.DataFrame(validation_indices)\n",
    "test_indices_series = pd.DataFrame(test_indices)\n",
    "\n",
    "train_output_file = os.path.join(splits_output_dir, \"train_indices.parquet\")\n",
    "validation_output_file = os.path.join(splits_output_dir, \"validation_indices.parquet\")\n",
    "test_output_file = os.path.join(splits_output_dir, \"test_indices.parquet\")\n",
    "\n",
    "train_indices_series.to_parquet(train_output_file, index=False)\n",
    "validation_indices_series.to_parquet(validation_output_file, index=False)\n",
    "test_indices_series.to_parquet(test_output_file, index=False)"
   ]
  }
 ],
 "metadata": {
  "kernelspec": {
   "display_name": "dspro2",
   "language": "python",
   "name": "python3"
  },
  "language_info": {
   "codemirror_mode": {
    "name": "ipython",
    "version": 3
   },
   "file_extension": ".py",
   "mimetype": "text/x-python",
   "name": "python",
   "nbconvert_exporter": "python",
   "pygments_lexer": "ipython3",
   "version": "3.10.16"
  }
 },
 "nbformat": 4,
 "nbformat_minor": 2
}
