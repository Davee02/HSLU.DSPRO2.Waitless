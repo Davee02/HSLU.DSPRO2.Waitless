{
 "cells": [
  {
   "cell_type": "code",
   "execution_count": 3,
   "metadata": {},
   "outputs": [],
   "source": [
    "import os\n",
    "import pandas as pd"
   ]
  },
  {
   "cell_type": "code",
   "execution_count": 8,
   "metadata": {},
   "outputs": [
    {
     "name": "stdout",
     "output_type": "stream",
     "text": [
      "Europa Park weather shape: (19943, 4)\n",
      "Europa Park rides shape: (6268117, 3)\n",
      "Rulantica weather shape: (18191, 4)\n",
      "Rulantica rides shape: (2215265, 3)\n",
      "            timestamp  temperature  rain  wind\n",
      "0 2024-08-13 09:00:00         22.0   0.0   1.2\n",
      "1 2024-08-13 10:00:00         22.4   0.0   2.5\n",
      "2 2024-08-13 11:00:00         25.7   0.0   1.1\n",
      "3 2024-08-13 12:00:00         25.7   0.0   2.4\n",
      "4 2024-08-13 13:00:00         25.8   0.0   3.3\n",
      "            timestamp                ride_name  wait_time\n",
      "0 2019-06-11 09:00:00  Alpine Express 'Enzian'        5.0\n",
      "1 2019-06-11 09:05:00  Alpine Express 'Enzian'        5.0\n",
      "2 2019-06-11 09:10:00  Alpine Express 'Enzian'        1.0\n",
      "3 2019-06-11 09:15:00  Alpine Express 'Enzian'        1.0\n",
      "4 2019-06-11 09:20:00  Alpine Express 'Enzian'        1.0\n",
      "            timestamp  temperature  rain  wind\n",
      "0 2022-10-28 10:00:00         14.9   0.0   2.6\n",
      "1 2022-10-28 11:00:00         17.4   0.0   2.8\n",
      "2 2022-10-28 12:00:00         19.2   0.0   2.9\n",
      "3 2022-10-28 13:00:00         20.4   0.0   3.3\n",
      "4 2022-10-28 14:00:00         21.6   0.0   3.5\n",
      "            timestamp ride_name  wait_time\n",
      "0 2022-06-30 10:00:00   Dugdrob        1.0\n",
      "1 2022-06-30 10:05:00   Dugdrob        1.0\n",
      "2 2022-06-30 10:10:00   Dugdrob        1.0\n",
      "3 2022-06-30 10:15:00   Dugdrob        1.0\n",
      "4 2022-06-30 10:20:00   Dugdrob        1.0\n"
     ]
    }
   ],
   "source": [
    "data_dir = \"../data/raw\"\n",
    "ep_dir = os.path.join(data_dir, \"51\")\n",
    "rulantica_dir = os.path.join(data_dir, \"309\")\n",
    "\n",
    "ep_weather_df = pd.read_parquet(os.path.join(ep_dir, \"merged_weather.parquet\"))\n",
    "ep_rides_df = pd.read_parquet(os.path.join(ep_dir, \"merged_rides.parquet\"))\n",
    "\n",
    "rulantica_weather_df = pd.read_parquet(os.path.join(rulantica_dir, \"merged_weather.parquet\"))\n",
    "rulantica_rides_df = pd.read_parquet(os.path.join(rulantica_dir, \"merged_rides.parquet\"))\n",
    "\n",
    "print(f\"Europa Park weather shape: {ep_weather_df.shape}\")\n",
    "print(f\"Europa Park rides shape: {ep_rides_df.shape}\")\n",
    "print(f\"Rulantica weather shape: {rulantica_weather_df.shape}\")\n",
    "print(f\"Rulantica rides shape: {rulantica_rides_df.shape}\")\n",
    "\n",
    "print(ep_weather_df.head())\n",
    "print(ep_rides_df.head())\n",
    "print(rulantica_weather_df.head())\n",
    "print(rulantica_rides_df.head())"
   ]
  },
  {
   "cell_type": "code",
   "execution_count": null,
   "metadata": {},
   "outputs": [],
   "source": []
  }
 ],
 "metadata": {
  "kernelspec": {
   "display_name": "dspro2",
   "language": "python",
   "name": "python3"
  },
  "language_info": {
   "codemirror_mode": {
    "name": "ipython",
    "version": 3
   },
   "file_extension": ".py",
   "mimetype": "text/x-python",
   "name": "python",
   "nbconvert_exporter": "python",
   "pygments_lexer": "ipython3",
   "version": "3.10.16"
  }
 },
 "nbformat": 4,
 "nbformat_minor": 2
}
